{
 "cells": [
  {
   "cell_type": "code",
   "execution_count": 2,
   "metadata": {},
   "outputs": [
    {
     "ename": "ImportError",
     "evalue": "cannot import name 'BOCPD' from 'bocpd' (/home/yadasa/Desktop/Oil_Price_Impact/venv/lib/python3.10/site-packages/bocpd/__init__.py)",
     "output_type": "error",
     "traceback": [
      "\u001b[0;31m---------------------------------------------------------------------------\u001b[0m",
      "\u001b[0;31mImportError\u001b[0m                               Traceback (most recent call last)",
      "Cell \u001b[0;32mIn[2], line 2\u001b[0m\n\u001b[1;32m      1\u001b[0m \u001b[38;5;28;01mimport\u001b[39;00m \u001b[38;5;21;01mpandas\u001b[39;00m \u001b[38;5;28;01mas\u001b[39;00m \u001b[38;5;21;01mpd\u001b[39;00m\n\u001b[0;32m----> 2\u001b[0m \u001b[38;5;28;01mfrom\u001b[39;00m \u001b[38;5;21;01mbocpd\u001b[39;00m \u001b[38;5;28;01mimport\u001b[39;00m BOCPD\n\u001b[1;32m      3\u001b[0m \u001b[38;5;28;01mimport\u001b[39;00m \u001b[38;5;21;01mmatplotlib\u001b[39;00m\u001b[38;5;21;01m.\u001b[39;00m\u001b[38;5;21;01mpyplot\u001b[39;00m \u001b[38;5;28;01mas\u001b[39;00m \u001b[38;5;21;01mplt\u001b[39;00m\n\u001b[1;32m      5\u001b[0m \u001b[38;5;66;03m# Load processed data\u001b[39;00m\n",
      "\u001b[0;31mImportError\u001b[0m: cannot import name 'BOCPD' from 'bocpd' (/home/yadasa/Desktop/Oil_Price_Impact/venv/lib/python3.10/site-packages/bocpd/__init__.py)"
     ]
    }
   ],
   "source": [
    "import pandas as pd\n",
    "from bocpd import BOCPD\n",
    "import matplotlib.pyplot as plt\n",
    "\n",
    "# Load processed data\n",
    "data = pd.read_csv('../Inputs/data/processed_data/brent_oil_prices.csv')\n",
    "\n",
    "# Fit BOCPD model\n",
    "bocpd = BOCPD()\n",
    "change_points = bocpd.fit_predict(data['Price'])\n",
    "\n",
    "# Plot change points\n",
    "plt.figure(figsize=(10, 6))\n",
    "plt.plot(data['Date'], data['Price'], label='Price')\n",
    "plt.scatter(data['Date'][change_points], data['Price'][change_points], color='red', label='Change Points')\n",
    "plt.title('BOCPD Change Point Detection')\n",
    "plt.xlabel('Date')\n",
    "plt.ylabel('Price')\n",
    "plt.legend()\n",
    "plt.show()\n",
    "\n",
    "# Save results\n",
    "pd.DataFrame({'Date': data['Date'], 'ChangePoints': change_points}).to_csv('../Results/bocpd/change_points.csv', index=False)\n"
   ]
  }
 ],
 "metadata": {
  "kernelspec": {
   "display_name": "venv",
   "language": "python",
   "name": "python3"
  },
  "language_info": {
   "codemirror_mode": {
    "name": "ipython",
    "version": 3
   },
   "file_extension": ".py",
   "mimetype": "text/x-python",
   "name": "python",
   "nbconvert_exporter": "python",
   "pygments_lexer": "ipython3",
   "version": "3.10.12"
  }
 },
 "nbformat": 4,
 "nbformat_minor": 2
}
