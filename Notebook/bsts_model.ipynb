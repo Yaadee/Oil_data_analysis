{
 "cells": [
  {
   "cell_type": "code",
   "execution_count": 1,
   "metadata": {},
   "outputs": [
    {
     "name": "stderr",
     "output_type": "stream",
     "text": [
      "/home/yadasa/Desktop/Oil_Price_Impact/venv/lib/python3.10/site-packages/tqdm/auto.py:21: TqdmWarning: IProgress not found. Please update jupyter and ipywidgets. See https://ipywidgets.readthedocs.io/en/stable/user_install.html\n",
      "  from .autonotebook import tqdm as notebook_tqdm\n"
     ]
    },
    {
     "ename": "ModuleNotFoundError",
     "evalue": "No module named 'bsts.mod_components'",
     "output_type": "error",
     "traceback": [
      "\u001b[0;31m---------------------------------------------------------------------------\u001b[0m",
      "\u001b[0;31mModuleNotFoundError\u001b[0m                       Traceback (most recent call last)",
      "Cell \u001b[0;32mIn[1], line 5\u001b[0m\n\u001b[1;32m      3\u001b[0m \u001b[38;5;28;01mimport\u001b[39;00m \u001b[38;5;21;01mmatplotlib\u001b[39;00m\u001b[38;5;21;01m.\u001b[39;00m\u001b[38;5;21;01mpyplot\u001b[39;00m \u001b[38;5;28;01mas\u001b[39;00m \u001b[38;5;21;01mplt\u001b[39;00m\n\u001b[1;32m      4\u001b[0m \u001b[38;5;28;01mfrom\u001b[39;00m \u001b[38;5;21;01mbsts\u001b[39;00m \u001b[38;5;28;01mimport\u001b[39;00m BSTS\n\u001b[0;32m----> 5\u001b[0m \u001b[38;5;28;01mfrom\u001b[39;00m \u001b[38;5;21;01mbsts\u001b[39;00m\u001b[38;5;21;01m.\u001b[39;00m\u001b[38;5;21;01mmod_components\u001b[39;00m \u001b[38;5;28;01mimport\u001b[39;00m LocalLevel  \u001b[38;5;66;03m# Corrected import statement\u001b[39;00m\n\u001b[1;32m      7\u001b[0m \u001b[38;5;66;03m# Load the data\u001b[39;00m\n\u001b[1;32m      8\u001b[0m data \u001b[38;5;241m=\u001b[39m pd\u001b[38;5;241m.\u001b[39mread_csv(\u001b[38;5;124m\"\u001b[39m\u001b[38;5;124mInputs/data/processed_data/cleaned_brent_prices_data.csv\u001b[39m\u001b[38;5;124m\"\u001b[39m)\n",
      "\u001b[0;31mModuleNotFoundError\u001b[0m: No module named 'bsts.mod_components'"
     ]
    }
   ],
   "source": [
    "import numpy as np\n",
    "import pandas as pd\n",
    "import matplotlib.pyplot as plt\n",
    "from bsts import BSTS\n",
    "from bsts.mod_components import LocalLevel  # Corrected import statement\n",
    "\n",
    "# Load the data\n",
    "data = pd.read_csv(\"Inputs/data/processed_data/cleaned_brent_prices_data.csv\")\n",
    "\n",
    "# Assuming 'Date' is the column name for dates and 'Price' for prices\n",
    "data['Date'] = pd.to_datetime(data['Date'])  # Convert 'Date' to datetime if needed\n",
    "data.set_index('Date', inplace=True)  # Set 'Date' as the index\n",
    "\n",
    "# Select the price column\n",
    "prices = data['Price']\n",
    "\n",
    "# Define the model components\n",
    "components = [LocalLevel()]\n",
    "\n",
    "# Create the model\n",
    "model = BSTS(prices, components)\n",
    "\n",
    "# Fit the model\n",
    "model.fit(num_iterations=1000)\n",
    "\n",
    "# Forecast\n",
    "forecast_horizon = 10\n",
    "pred = model.predict(forecast_horizon)\n",
    "predicted_mean = pred.mean()\n",
    "predicted_interval = pred.predicted_interval()\n",
    "\n",
    "# Plotting the forecast\n",
    "plt.figure(figsize=(12, 6))\n",
    "plt.plot(prices.index, prices, label='Actual Prices')\n",
    "plt.plot(pred.index, predicted_mean, label='Predicted Prices')\n",
    "plt.fill_between(pred.index, predicted_interval[:, 0], predicted_interval[:, 1], color='gray', alpha=0.2, label='Prediction Interval')\n",
    "plt.title('BSTS Forecast of Brent Oil Prices')\n",
    "plt.xlabel('Date')\n",
    "plt.ylabel('Price')\n",
    "plt.legend()\n",
    "plt.show()\n"
   ]
  }
 ],
 "metadata": {
  "kernelspec": {
   "display_name": "venv",
   "language": "python",
   "name": "python3"
  },
  "language_info": {
   "codemirror_mode": {
    "name": "ipython",
    "version": 3
   },
   "file_extension": ".py",
   "mimetype": "text/x-python",
   "name": "python",
   "nbconvert_exporter": "python",
   "pygments_lexer": "ipython3",
   "version": "3.10.12"
  }
 },
 "nbformat": 4,
 "nbformat_minor": 2
}
