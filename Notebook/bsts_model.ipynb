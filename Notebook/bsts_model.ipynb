{
 "cells": [
  {
   "cell_type": "code",
   "execution_count": 1,
   "metadata": {},
   "outputs": [
    {
     "ename": "ImportError",
     "evalue": "cannot import name 'forecast_path' from 'pybats.point_forecast' (/home/yadasa/Desktop/Oil_Price_Impact/venv/lib/python3.10/site-packages/pybats/point_forecast.py)",
     "output_type": "error",
     "traceback": [
      "\u001b[0;31m---------------------------------------------------------------------------\u001b[0m",
      "\u001b[0;31mImportError\u001b[0m                               Traceback (most recent call last)",
      "Cell \u001b[0;32mIn[1], line 3\u001b[0m\n\u001b[1;32m      1\u001b[0m \u001b[38;5;28;01mimport\u001b[39;00m \u001b[38;5;21;01mpandas\u001b[39;00m \u001b[38;5;28;01mas\u001b[39;00m \u001b[38;5;21;01mpd\u001b[39;00m\n\u001b[1;32m      2\u001b[0m \u001b[38;5;28;01mfrom\u001b[39;00m \u001b[38;5;21;01mpybats\u001b[39;00m\u001b[38;5;21;01m.\u001b[39;00m\u001b[38;5;21;01mshared\u001b[39;00m \u001b[38;5;28;01mimport\u001b[39;00m load_sales_example\n\u001b[0;32m----> 3\u001b[0m \u001b[38;5;28;01mfrom\u001b[39;00m \u001b[38;5;21;01mpybats\u001b[39;00m\u001b[38;5;21;01m.\u001b[39;00m\u001b[38;5;21;01mpoint_forecast\u001b[39;00m \u001b[38;5;28;01mimport\u001b[39;00m forecast_path\n\u001b[1;32m      4\u001b[0m \u001b[38;5;28;01mimport\u001b[39;00m \u001b[38;5;21;01mmatplotlib\u001b[39;00m\u001b[38;5;21;01m.\u001b[39;00m\u001b[38;5;21;01mpyplot\u001b[39;00m \u001b[38;5;28;01mas\u001b[39;00m \u001b[38;5;21;01mplt\u001b[39;00m\n\u001b[1;32m      6\u001b[0m \u001b[38;5;66;03m# Load processed data\u001b[39;00m\n",
      "\u001b[0;31mImportError\u001b[0m: cannot import name 'forecast_path' from 'pybats.point_forecast' (/home/yadasa/Desktop/Oil_Price_Impact/venv/lib/python3.10/site-packages/pybats/point_forecast.py)"
     ]
    }
   ],
   "source": [
    "import pandas as pd\n",
    "from pybats.shared import load_sales_example\n",
    "from pybats.point_forecast import forecast_path\n",
    "import matplotlib.pyplot as plt\n",
    "\n",
    "# Load processed data\n",
    "data = pd.read_csv('../Inputs/data/processed_data/brent_oil_prices.csv')\n",
    "\n",
    "# Fit BSTS model\n",
    "bsts_model = load_sales_example()\n",
    "forecast_mean, forecast_std = forecast_path(bsts_model, data['Price'], num_steps=30)\n",
    "\n",
    "# Plot BSTS forecast\n",
    "plt.figure(figsize=(10, 6))\n",
    "plt.plot(data['Date'], data['Price'], label='Observed')\n",
    "plt.plot(pd.date_range(data['Date'].iloc[-1], periods=30, freq='D'), forecast_mean, label='Forecast')\n",
    "plt.fill_between(pd.date_range(data['Date'].iloc[-1], periods=30, freq='D'), forecast_mean - 2 * forecast_std, forecast_mean + 2 * forecast_std, color='gray', alpha=0.2)\n",
    "plt.title('BSTS Model Forecast')\n",
    "plt.xlabel('Date')\n",
    "plt.ylabel('Price')\n",
    "plt.legend()\n",
    "plt.show()\n",
    "\n",
    "# Save results\n",
    "pd.DataFrame({'mean': forecast_mean, 'std': forecast_std}).to_csv('../Results/bsts/forecast.csv', index=False)\n"
   ]
  }
 ],
 "metadata": {
  "kernelspec": {
   "display_name": "venv",
   "language": "python",
   "name": "python3"
  },
  "language_info": {
   "codemirror_mode": {
    "name": "ipython",
    "version": 3
   },
   "file_extension": ".py",
   "mimetype": "text/x-python",
   "name": "python",
   "nbconvert_exporter": "python",
   "pygments_lexer": "ipython3",
   "version": "3.10.12"
  }
 },
 "nbformat": 4,
 "nbformat_minor": 2
}
