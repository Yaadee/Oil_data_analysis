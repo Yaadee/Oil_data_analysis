{
 "cells": [
  {
   "cell_type": "code",
   "execution_count": 1,
   "metadata": {},
   "outputs": [
    {
     "name": "stderr",
     "output_type": "stream",
     "text": [
      "/tmp/ipykernel_15264/4118534420.py:7: UserWarning: Could not infer format, so each element will be parsed individually, falling back to `dateutil`. To ensure parsing is consistent and as-expected, please specify a format.\n",
      "  brent_prices = pd.read_csv(input_path_brent, parse_dates=['Date'])\n"
     ]
    },
    {
     "name": "stdout",
     "output_type": "stream",
     "text": [
      "Error in VAR model: x contains one or more constant columns. Column(s) 0 are constant. Adding a constant with trend='c' is not allowed.\n"
     ]
    },
    {
     "name": "stderr",
     "output_type": "stream",
     "text": [
      "/home/yadasa/Desktop/Oil_Price_Impact/venv/lib/python3.10/site-packages/statsmodels/tsa/base/tsa_model.py:473: ValueWarning: A date index has been provided, but it has no associated frequency information and so will be ignored when e.g. forecasting.\n",
      "  self._init_dates(dates, freq)\n"
     ]
    }
   ],
   "source": [
    "import pandas as pd\n",
    "import matplotlib.pyplot as plt\n",
    "from statsmodels.tsa.api import VAR\n",
    "\n",
    "def var_model(input_path_brent, input_path_gdp, output_path, forecast_steps):\n",
    "    # Load data\n",
    "    brent_prices = pd.read_csv(input_path_brent, parse_dates=['Date'])\n",
    "    gdp_data = pd.read_csv(input_path_gdp, parse_dates=['date'])  # Assuming 'date' is the column for GDP data\n",
    "    \n",
    "    # Rename columns for consistency\n",
    "    gdp_data.rename(columns={'date': 'Date', 'GDP': 'GDP'}, inplace=True)\n",
    "    \n",
    "    # Merge data on 'Date' column\n",
    "    combined_data = pd.merge(brent_prices, gdp_data[['Date', 'GDP']], on='Date', how='inner')\n",
    "    combined_data.set_index('Date', inplace=True)\n",
    "    \n",
    "    # Check for constant columns or missing values\n",
    "    if combined_data.isnull().any().any():\n",
    "        raise ValueError(\"Data contains missing values.\")\n",
    "    \n",
    "    if combined_data.var().sum() == 0:\n",
    "        raise ValueError(\"Data contains constant columns.\")\n",
    "    \n",
    "    # Fit VAR model\n",
    "    model = VAR(combined_data[['Price', 'GDP']])\n",
    "    var_results = model.fit(maxlags=5, ic='aic')\n",
    "    \n",
    "    # Forecast\n",
    "    var_forecast = var_results.forecast(var_results.y, steps=forecast_steps)\n",
    "    \n",
    "    # Add forecasted results to DataFrame\n",
    "    forecast_index = pd.date_range(start=combined_data.index[-1], periods=forecast_steps + 1, freq='M')[1:]\n",
    "    forecast_df = pd.DataFrame(var_forecast, index=forecast_index, columns=['Price_Forecast', 'GDP_Forecast'])\n",
    "    combined_data = pd.concat([combined_data, forecast_df])\n",
    "    \n",
    "    # Save combined_data to CSV\n",
    "    combined_data.to_csv(output_path)\n",
    "    \n",
    "    # Plotting\n",
    "    plt.figure(figsize=(14, 7))\n",
    "    plt.plot(combined_data.index, combined_data['Price'], label='Actual Brent Price')\n",
    "    plt.plot(forecast_df.index, forecast_df['Price_Forecast'], label='Forecasted Brent Price')\n",
    "    plt.title('VAR Model Forecast of Brent Prices')\n",
    "    plt.xlabel('Date')\n",
    "    plt.ylabel('Price')\n",
    "    plt.legend()\n",
    "    plt.grid(True)\n",
    "    plt.savefig(\"Results/var_forecast_plot.png\")  # Save plot as PNG\n",
    "    plt.show()\n",
    "\n",
    "if __name__ == \"__main__\":\n",
    "    brent_path = \"../Inputs/data/processed_data/cleaned_brent_prices_data.csv\"\n",
    "    gdp_path = \"../Inputs/data/processed_data/cleaned_gdp_data.csv\"\n",
    "    output_path = \"../Results/bvar/var_results.csv\"\n",
    "    forecast_steps = 10\n",
    "    \n",
    "    try:\n",
    "        var_model(brent_path, gdp_path, output_path, forecast_steps)\n",
    "    except ValueError as ve:\n",
    "        print(f\"Error in VAR model: {ve}\")\n"
   ]
  }
 ],
 "metadata": {
  "kernelspec": {
   "display_name": "venv",
   "language": "python",
   "name": "python3"
  },
  "language_info": {
   "codemirror_mode": {
    "name": "ipython",
    "version": 3
   },
   "file_extension": ".py",
   "mimetype": "text/x-python",
   "name": "python",
   "nbconvert_exporter": "python",
   "pygments_lexer": "ipython3",
   "version": "3.10.12"
  }
 },
 "nbformat": 4,
 "nbformat_minor": 2
}
